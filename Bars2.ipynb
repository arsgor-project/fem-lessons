{
 "metadata": {
  "language_info": {
   "codemirror_mode": {
    "name": "ipython",
    "version": 3
   },
   "file_extension": ".py",
   "mimetype": "text/x-python",
   "name": "python",
   "nbconvert_exporter": "python",
   "pygments_lexer": "ipython3",
   "version": 3
  },
  "orig_nbformat": 2
 },
 "nbformat": 4,
 "nbformat_minor": 2,
 "cells": [
  {
   "source": [
    "<h1>1. МКЭ, стержневой элемент, ферма </h1>\n",
    "\n",
    " $$ \\int \\delta K - (\\delta U - \\delta W) \\; dt = 0 $$\n",
    " \n",
    " $$ M \\ddot{u} + K u = f $$\n",
    " $$ K^{e} = \\dfrac{EA}{2a} \\begin{bmatrix} 1 & -1 \\\\ -1 & 1 \\end{bmatrix}, \\quad M^{e} = \\dfrac{\\rho A}{3} a \\begin{bmatrix} 2 & 1 \\\\ 1 & 2 \\end{bmatrix}, \\quad f^{e} = a p \\begin{bmatrix} 1 \\\\ 1 \\end{bmatrix}. $$\n",
    " \n"
   ],
   "cell_type": "markdown",
   "metadata": {}
  },
  {
   "cell_type": "code",
   "execution_count": null,
   "metadata": {},
   "outputs": [],
   "source": []
  }
 ]
}